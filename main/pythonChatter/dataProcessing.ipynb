{
 "cells": [
  {
   "cell_type": "heading",
   "metadata": {
    "collapsed": true
   },
   "level": 1,
   "source": [
    "Clean up numbers"
   ]
  },
  {
   "cell_type": "code",
   "execution_count": 16,
   "metadata": {},
   "outputs": [],
   "source": [
    "outFile = open('../data/shittalkCleaned.txt', 'w')\n",
    "inFile = open('../data/shittalk.txt')\n",
    "for line in inFile:\n",
    "    outFile.write( line.split(\"|\")[1] )"
   ]
  },
  {
   "cell_type": "heading",
   "metadata": {},
   "level": 1,
   "source": [
    "Convert into CSV"
   ]
  },
  {
   "cell_type": "code",
   "execution_count": 38,
   "metadata": {},
   "outputs": [],
   "source": [
    "import pandas as pd"
   ]
  },
  {
   "cell_type": "code",
   "execution_count": 16,
   "metadata": {},
   "outputs": [
    {
     "name": "stderr",
     "output_type": "stream",
     "text": [
      "Skipping line 49: expected 1 fields, saw 2\nSkipping line 296: expected 1 fields, saw 2\nSkipping line 556: expected 1 fields, saw 2\n\n"
     ]
    }
   ],
   "source": [
    "#error_bad_lines=False => somehow some lines can't be read\n",
    "dataOnlyText = pd.read_table('../data/shittalkCleaned.txt', error_bad_lines=False)\n",
    "dataOnlyText['Rating'] = 'none'\n",
    "dataOnlyText['keywords'] = ''\n",
    "dataOnlyText['count'] = 0\n",
    "dataOnlyText.to_csv('../data/ShitTalkTable.csv')"
   ]
  },
  {
   "cell_type": "heading",
   "metadata": {},
   "level": 1,
   "source": [
    "Keyword extraction"
   ]
  },
  {
   "cell_type": "code",
   "execution_count": 39,
   "metadata": {},
   "outputs": [],
   "source": [
    "import nltk\n",
    "from nltk.tokenize import RegexpTokenizer   #For getting rid of punctuation\n",
    "tokenizer = RegexpTokenizer(r'\\w+') #Special tokenizer\n",
    "dataTable = pd.read_csv('../data/ShitTalkTable.csv')"
   ]
  },
  {
   "cell_type": "code",
   "execution_count": 40,
   "metadata": {},
   "outputs": [],
   "source": [
    "rowNr = 2\n",
    "textTest = dataTable['Text'][ rowNr ]\n",
    "\n",
    "tokens = tokenizer.tokenize( textTest )\n",
    "#tokens = nltk.word_tokenize( textTest )\n",
    "taggedPairs = nltk.pos_tag( tokens )\n",
    "keywordsTMP = [word for word,pos in taggedPairs if pos == 'NN']"
   ]
  },
  {
   "cell_type": "code",
   "execution_count": 1,
   "metadata": {},
   "outputs": [
    {
     "ename": "NameError",
     "evalue": "name 'keywordsTMP' is not defined",
     "traceback": [
      "\u001b[0;31m\u001b[0m",
      "\u001b[0;31mNameError\u001b[0mTraceback (most recent call last)",
      "\u001b[0;32m<ipython-input-1-2e12238eed24>\u001b[0m in \u001b[0;36m<module>\u001b[0;34m()\u001b[0m\n\u001b[1;32m      1\u001b[0m \u001b[0;32mfrom\u001b[0m \u001b[0mcollections\u001b[0m \u001b[0;32mimport\u001b[0m \u001b[0mdefaultdict\u001b[0m\u001b[0;34m\u001b[0m\u001b[0m\n\u001b[1;32m      2\u001b[0m \u001b[0mdict\u001b[0m \u001b[0;34m=\u001b[0m \u001b[0mdefaultdict\u001b[0m\u001b[0;34m(\u001b[0m\u001b[0mlist\u001b[0m\u001b[0;34m)\u001b[0m\u001b[0;34m\u001b[0m\u001b[0m\n\u001b[0;32m----> 3\u001b[0;31m \u001b[0;32mfor\u001b[0m \u001b[0mkey\u001b[0m \u001b[0;32min\u001b[0m \u001b[0mkeywordsTMP\u001b[0m\u001b[0;34m:\u001b[0m\u001b[0;34m\u001b[0m\u001b[0m\n\u001b[0m\u001b[1;32m      4\u001b[0m     \u001b[0mdict\u001b[0m\u001b[0;34m[\u001b[0m \u001b[0mkey\u001b[0m \u001b[0;34m]\u001b[0m\u001b[0;34m.\u001b[0m\u001b[0mappend\u001b[0m\u001b[0;34m(\u001b[0m\u001b[0mrowNr\u001b[0m\u001b[0;34m)\u001b[0m\u001b[0;34m\u001b[0m\u001b[0m\n\u001b[1;32m      5\u001b[0m \u001b[0;34m\u001b[0m\u001b[0m\n",
      "\u001b[0;31mNameError\u001b[0m: name 'keywordsTMP' is not defined"
     ],
     "output_type": "error"
    }
   ],
   "source": [
    "from collections import defaultdict\n",
    "dict = defaultdict(list)\n",
    "for key in keywordsTMP:\n",
    "    dict[ key ].append(rowNr)\n",
    "    \n",
    "for key in keywordsTMP:\n",
    "    dict[ key ].append( 4 )"
   ]
  },
  {
   "cell_type": "heading",
   "metadata": {},
   "level": 2,
   "source": [
    "Function to get all keywords"
   ]
  },
  {
   "cell_type": "code",
   "execution_count": 9,
   "metadata": {
    "collapsed": true
   },
   "outputs": [],
   "source": [
    "import randomInsulter as ai\n",
    "import pandas as pd\n",
    "dataTable = pd.read_csv('../data/ShitTalkTable.csv')\n",
    "resultDict = ai.putKeywordsToDict( dataTable )"
   ]
  },
  {
   "cell_type": "heading",
   "metadata": {
    "collapsed": true
   },
   "level": 1,
   "source": [
    "Get a sentence from incoming sentence"
   ]
  },
  {
   "cell_type": "code",
   "execution_count": 10,
   "metadata": {},
   "outputs": [
    {
     "data": {
      "text/plain": [
       "'Your asshole must be jealous of all the shit that comes out of your mouth.'"
      ]
     },
     "execution_count": 10,
     "metadata": {},
     "output_type": "execute_result"
    }
   ],
   "source": [
    "text = \"This shit was yesterday\"\n",
    "ai.answerFromText( text, resultDict, dataTable )"
   ]
  },
  {
   "cell_type": "code",
   "execution_count": 57,
   "metadata": {
    "collapsed": false
   },
   "outputs": [
    {
     "name": "stdout",
     "output_type": "stream",
     "text": [
      "You guys answered the age-old question of whether God could create a team of people so dense that even he could not carry them\n"
     ]
    },
    {
     "data": {
      "text/plain": [
       "'He guys answasd the age-old question of whether God could create a team of people so dense that even he could not carry them'"
      ]
     },
     "execution_count": 57,
     "metadata": {},
     "output_type": "execute_result"
    }
   ],
   "source": [
    "myText = \"team\"\n",
    "textResult = ai.answerFromText( myText, resultDict, dataTable ) \n",
    "print textResult\n",
    "ai.changeToMale( textResult )"
   ]
  },
  {
   "cell_type": "code",
   "execution_count": 34,
   "metadata": {
    "collapsed": true
   },
   "outputs": [
    {
     "data": {
      "text/plain": [
       "defaultdict(list,\n            {'Achievement': [153],\n             'Earth': [682, 715],\n             'Everyone': [29, 267],\n             'GPA': [330],\n             'Help': [84],\n             'IQ': [604],\n             'Imagine': [442, 468, 511, 598, 632, 633],\n             'Investment': [452],\n             'Iridium': [635, 635],\n             'Kill': [374],\n             'PC': [198, 692],\n             'Play': [309],\n             'Sort': [702],\n             'Steam': [73],\n             'Stormtrooper': [317],\n             'Strike': [436],\n             'Team': [178, 561, 705],\n             'Tinder': [560],\n             'Trying': [418],\n             'Twitch': [118],\n             'abacus': [282],\n             'ability': [325, 393],\n             'abortion': [121, 353, 439, 510, 516, 526, 577, 678],\n             'abuse': [578],\n             'accident': [173],\n             'accuracy': [626],\n             'addiction': [588],\n             'advantage': [406],\n             'advertisment': [531],\n             'advice': [284],\n             'age': [544],\n             'aim': [17,\n              35,\n              188,\n              223,\n              266,\n              289,\n              296,\n              331,\n              359,\n              373,\n              414,\n              421,\n              437,\n              451,\n              454,\n              524,\n              530,\n              595,\n              687,\n              692,\n              707],\n             'aimbot': [613],\n             'alive': [548],\n             'alphabet': [163],\n             'alt': [305],\n             'ammo': [338],\n             'amount': [49, 110, 174],\n             'animal': [366],\n             'anybody': [329],\n             'anyone': [140],\n             'anything': [543, 622],\n             'apology': [31, 388, 549],\n             'argue': [327],\n             'argument': [78, 589],\n             'asewi': [621],\n             'aspiration': [630],\n             'ass': [26, 28, 49, 110, 174, 200, 505, 512, 562, 646],\n             'asshole': [146, 222],\n             'athiest': [583],\n             'attention': [120],\n             'award': [14],\n             'awareness': [12, 15, 20, 68, 541],\n             'aww': [140],\n             'back': [499],\n             'ban': [484],\n             'bar': [591],\n             'bark': [324],\n             'barn': [707],\n             'batch': [407],\n             'bear': [102],\n             'beat': [369],\n             'beaten': [407],\n             'becuase': [256],\n             'bed': [71],\n             'bench': [157, 157, 571],\n             'birth': [6,\n              31,\n              388,\n              399,\n              442,\n              468,\n              494,\n              511,\n              515,\n              549,\n              598,\n              607,\n              632,\n              633,\n              654,\n              659,\n              697,\n              713],\n             'bit': [408],\n             'bitch': [366, 512, 646],\n             'blank': [341],\n             'bleach': [446],\n             'blind': [316],\n             'blindfold': [309],\n             'blindness': [296],\n             'block': [100],\n             'blood': [311, 336],\n             'boat': [331, 447],\n             'body': [1, 113, 478],\n             'bodypillow': [427],\n             'bongos': [663],\n             'boot': [150, 575, 584, 594, 610],\n             'booze': [678],\n             'bot': [104, 187],\n             'bottom': [154, 168],\n             'bowl': [163],\n             'box': [60],\n             'brain': [122, 181, 184, 311, 336, 502, 533, 670],\n             'break': [116],\n             'breast': [46],\n             'breath': [627],\n             'broadside': [707],\n             'bucket': [46],\n             'buddy': [630],\n             'building': [681],\n             'bullet': [558],\n             'bunch': [360, 483],\n             'burst': [299],\n             'button': [142, 224, 239, 244, 272, 277, 315, 368, 451, 573],\n             'cable': [291],\n             'cactus': [220, 401],\n             'cam': [400],\n             'cancer': [170,\n              421,\n              421,\n              423,\n              423,\n              435,\n              435,\n              493,\n              504,\n              504,\n              520,\n              524,\n              524,\n              528,\n              530,\n              530,\n              532,\n              532,\n              542,\n              551,\n              551,\n              559,\n              559,\n              570,\n              570,\n              587,\n              587,\n              597,\n              597,\n              609,\n              616,\n              616,\n              629,\n              636,\n              636,\n              680,\n              684,\n              684,\n              687,\n              687,\n              691,\n              691,\n              698,\n              698],\n             'card': [73],\n             'care': [534],\n             'caretaker': [479],\n             'carry': [85],\n             'carrying': [525],\n             'cart': [632],\n             'casket': [617],\n             'cat': [124, 136, 274, 621],\n             'cause': [89, 126, 149, 199, 492],\n             'ceiling': [99],\n             'centipede': [98],\n             'centre': [637],\n             'certificate': [6, 31, 388, 515, 549, 713],\n             'chair': [42, 167, 198, 318],\n             'challenge': [94],\n             'chance': [47, 124, 316, 438, 605, 677],\n             'character': [300, 573],\n             'charity': [223],\n             'cheat': [257],\n             'child': [442, 468, 494, 511, 552, 633],\n             'china': [711],\n             'choice': [547],\n             'chromosome': [85, 183, 191, 328, 402, 429, 489, 495, 521, 670],\n             'church': [342],\n             'cigarette': [528],\n             'city': [109],\n             'class': [56],\n             'clay': [360],\n             'client': [295],\n             'clinic': [121],\n             'club': [123],\n             'coat': [467],\n             'cock': [51, 176, 700],\n             'coffin': [65, 430, 462, 538],\n             'cold': [359],\n             'collector': [7, 109],\n             'coma': [377, 685, 696],\n             'combat': [335],\n             'comeback': [66],\n             'company': [549, 713],\n             'comparison': [667],\n             'competition': [527],\n             'complex': [464],\n             'compliment': [667],\n             'computer': [125, 127, 206, 213, 272, 315],\n             'concept': [419],\n             'concert': [223],\n             'condom': [6, 31, 158, 388, 467, 531, 549, 713],\n             'connection': [345],\n             'contest': [618],\n             'contradiction': [449],\n             'control': [77, 169, 607],\n             'controller': [663],\n             'conversation': [30],\n             'coordination': [363, 625],\n             'couldn': [456],\n             'count': [179, 342, 359, 425, 489, 670, 671, 702],\n             'counter': [662],\n             'course': [205],\n             'crayon': [240, 490],\n             'creationism': [608],\n             'creator': [573],\n             'crosshair': [27, 260],\n             'crush': [454],\n             'cunt': [537, 537, 612, 672],\n             'curve': [333],\n             'd': [202],\n             'dad': [93, 103, 158, 189, 231, 414, 595, 614],\n             'dating': [35],\n             'day': [21, 137, 411, 439, 472, 534],\n             'daycare': [323],\n             'death': [179, 194, 671],\n             'dense': [635, 637],\n             'depth': [612, 672],\n             'deserve': [556],\n             'design': [589],\n             'dial': [283],\n             'dick': [40, 271, 361, 373],\n             'didn': [623, 662],\n             'didnt': [89],\n             'die': [105, 623],\n             'difference': [157],\n             'difficulty': [104, 135, 352],\n             'disability': [689],\n             'disappointment': [30],\n             'disease': [410],\n             'doesn': [269, 393, 458, 468],\n             'dog': [303, 324, 360],\n             'doin': [126],\n             'dollar': [491, 620],\n             'don': [51, 96, 176, 203, 215, 318, 377, 471, 582, 685, 696],\n             'doormat': [129],\n             'driver': [137],\n             'drug': [588],\n             'drugstore': [192],\n             'drumkit': [668],\n             'dude': [130],\n             'dumbass': [269],\n             'dumber': [472],\n             'earth': [646],\n             'effort': [714],\n             'ego': [19, 101, 466, 602, 615],\n             'enemy': [93, 103, 415, 539, 606],\n             'enough': [322],\n             'equivalent': [14],\n             'ergkirhrjrl': [621],\n             'erosion': [238],\n             'ethiopia': [237],\n             'everybody': [220, 307, 401],\n             'everyone': [16, 199, 566, 669],\n             'everything': [47],\n             'evolution': [214, 290, 293, 449, 608],\n             'example': [253, 446],\n             'exception': [327],\n             'excuse': [554, 663],\n             'existance': [242, 645],\n             'existence': [8, 293, 589],\n             'expectancy': [299],\n             'eye': [363, 625],\n             'f4': [305],\n             'face': [167, 228, 436, 647, 683],\n             'factory': [6, 31, 388],\n             'failure': [630],\n             'faith': [236],\n             'family': [220, 280, 401, 476],\n             'fan': [66, 99],\n             'father': [581],\n             'fertilizer': [144],\n             'fight': [115],\n             'figure': [634],\n             'film': [434],\n             'fire': [270, 299, 378, 647],\n             'flamethrower': [341],\n             'flight': [70],\n             'floor': [17],\n             'food': [582, 611],\n             'forehead': [37],\n             'fork': [647],\n             'fortune': [652],\n             'foundation': [147, 245],\n             'freeway': [469],\n             'fuck': [348],\n             'fucking': [60,\n              87,\n              117,\n              138,\n              197,\n              433,\n              468,\n              481,\n              483,\n              494,\n              511,\n              630,\n              632,\n              633],\n             'fundraiser': [266],\n             'galaxy': [637],\n             'game': [37,\n              41,\n              82,\n              86,\n              117,\n              128,\n              166,\n              180,\n              182,\n              187,\n              224,\n              236,\n              241,\n              244,\n              287,\n              295,\n              398,\n              424,\n              426,\n              441,\n              487,\n              580,\n              599,\n              628,\n              669,\n              676,\n              714],\n             'garbage': [7, 109, 262],\n             'gay': [506],\n             'gene': [2, 397, 446],\n             'generator': [217, 409],\n             'get': [50],\n             'girl': [679],\n             'girlfriend': [627],\n             'glad': [117],\n             'god': [682],\n             'goddamn': [409],\n             'golf': [130, 379, 513, 628],\n             'gonna': [525],\n             'grave': [596, 617],\n             'gravity': [87],\n             'ground': [87, 289, 656],\n             'gun': [590, 606],\n             'guy': [48, 68, 99, 208, 340],\n             'gym': [586],\n             'hand': [108, 336, 363, 509, 625],\n             'handicap': [130, 665],\n             'hanger': [467],\n             'harder': [89],\n             'head': [26, 30, 200, 562, 637],\n             'heel': [575, 584, 594, 610],\n             'highway': [88, 297, 371],\n             'hit': [277, 331, 447],\n             'hitting': [315],\n             'hobby': [337],\n             'hold': [97],\n             'hole': [100],\n             'home': [586],\n             'hostage': [339],\n             'hour': [406],\n             'house': [712],\n             'humanity': [320],\n             'humor': [412],\n             'humour': [564],\n             'hunger': [201, 294, 308, 391],\n             'i': [46, 65, 65, 137, 462, 462, 491],\n             'idea': [66, 295, 523, 654],\n             'idiot': [259, 654],\n             'ignorance': [457],\n             'im': [525, 525, 595],\n             'imagine': [32, 494],\n             'industry': [548],\n             'inferiority': [464],\n             'inside': [143],\n             'inspiration': [607],\n             'install': [142],\n             'instance': [312],\n             'insult': [383, 417, 638],\n             'intelligence': [8],\n             'internet': [275, 345, 357],\n             'intervention': [583],\n             'isnt': [191],\n             'jealous': [49],\n             'jet': [514],\n             'job': [5, 274, 333, 372, 645],\n             'joke': [51, 176, 203, 215, 281, 471, 645, 650, 654, 700],\n             'jump': [19, 466, 615],\n             'jungler': [254],\n             'keyboard': [37,\n              124,\n              129,\n              136,\n              149,\n              185,\n              198,\n              263,\n              274,\n              318,\n              509,\n              621],\n             'keys': [24],\n             'kfc': [46],\n             'kick': [361],\n             'kid': [496],\n             'kill': [11, 193, 229, 250, 359, 400],\n             'killcam': [434],\n             'killfeed': [676],\n             'kit': [209],\n             'kitchen': [199],\n             'lag': [184, 213, 291, 416, 440],\n             'laughter': [683],\n             'law': [133],\n             'layer': [455, 455],\n             'letter': [6, 388, 515, 713],\n             'level': [39, 62, 226, 384, 602],\n             'life': [60,\n              102,\n              112,\n              189,\n              234,\n              299,\n              389,\n              399,\n              520,\n              529,\n              569,\n              572,\n              609,\n              630],\n             'lifeguard': [2],\n             'lift': [219],\n             'light': [306],\n             'list': [413, 413],\n             'll': [694],\n             'look': [470, 474, 499],\n             'loser': [618],\n             'lot': [446],\n             'lottery': [397],\n             'luck': [710],\n             'm': [148],\n             'makeup': [143],\n             'malpractice': [251],\n             'man': [44, 262, 316],\n             'map': [12, 68, 436, 541],\n             'marksmanship': [161],\n             'masturbation': [296, 443],\n             'match': [342, 526, 567, 592, 649],\n             'matchmaking': [625],\n             'mattress': [396],\n             'meal': [159],\n             'medicine': [683],\n             'memory': [497],\n             'menu': [257],\n             'millon': [343],\n             'mind': [345, 419],\n             'mine': [18],\n             'minute': [102],\n             'miracle': [342, 599],\n             'mistake': [380],\n             'mode': [249, 271, 286, 352],\n             'mom': [396, 521, 706, 706],\n             'money': [678],\n             'monitor': [34, 106, 278, 460, 641],\n             'month': [232, 632],\n             'morning': [634],\n             'mother': [44, 385, 554, 601, 638, 675, 678, 712],\n             'mouse': [69, 81, 134, 152, 160, 329, 364, 475, 694],\n             'mouth': [28, 49, 110, 146, 174, 395, 505, 565, 655],\n             'need': [437],\n             'nobody': [603],\n             'none': [498, 622],\n             'nothing': [520],\n             'number': [246, 605],\n             'object': [637],\n             'objective': [424, 426, 468, 633],\n             'one': [518],\n             'onion': [455],\n             'opinion': [593],\n             'opposite': [47],\n             'option': [352, 640, 702],\n             'order': [224],\n             'oscar': [389],\n             'outside': [455],\n             'owner': [263],\n             'oxygen': [399, 697],\n             'pacifist': [22, 249, 354],\n             'pair': [92],\n             'paper': [39],\n             'park': [571],\n             'participation': [14, 370],\n             'party': [416],\n             'pay': [250],\n             'payload': [442, 494, 511, 699],\n             'penguin': [123],\n             'penis': [185],\n             'penny': [486],\n             'person': [30, 98, 341, 457, 459, 487, 590, 613, 661],\n             'perspective': [26, 200],\n             'phone': [529, 569, 688],\n             'piece': [144],\n             'pilot': [681],\n             'ping': [660, 671],\n             'place': [346, 556, 567, 618, 646],\n             'plane': [661],\n             'planet': [635],\n             'plausibility': [293],\n             'play': [42, 177, 185, 393, 432, 520, 695],\n             'player': [41, 213, 567],\n             'playstyle': [354],\n             'please': [104],\n             'plumber': [261],\n             'point': [341, 562],\n             'pole': [591],\n             'policy': [406, 552],\n             'pool': [2, 397, 446],\n             'potato': [15, 20],\n             'power': [224, 272, 282, 315],\n             'practice': [145, 180, 707],\n             'prediction': [295],\n             'pregnancy': [442, 494, 511, 598, 632, 633, 678],\n             'press': [305],\n             'prick': [220, 401],\n             'problem': [198, 318, 382],\n             'process': [61],\n             'profile': [35, 560, 702],\n             'proof': [564],\n             'property': [579],\n             'puberty': [546],\n             'push': [442, 494, 511, 699],\n             'pussy': [576, 666],\n             'question': [544],\n             'queue': [451],\n             'quit': [522],\n             'raisin': [60],\n             'randomize': [573],\n             'range': [341],\n             'rank': [466],\n             'rape': [57],\n             'rate': [76, 299],\n             'ratio': [653],\n             'reaction': [238],\n             'realize': [300],\n             'reason': [2,\n              63,\n              115,\n              231,\n              290,\n              293,\n              309,\n              353,\n              404,\n              473,\n              510,\n              674,\n              682,\n              699],\n             'recoil': [364],\n             'record': [403],\n             'redemption': [433],\n             'reel': [415],\n             'refrigerator': [306],\n             'refund': [406, 428],\n             'regret': [528],\n             'religion': [682],\n             'respawn': [13, 96],\n             'respect': [556],\n             'rest': [259],\n             'retard': [417, 667],\n             'reunion': [476],\n             'right': [111, 335],\n             'rock': [39],\n             'room': [221],\n             'roulette': [710],\n             'round': [100, 278],\n             'router': [292, 688],\n             's': [158, 194, 373, 396, 414, 415, 629, 675],\n             'safer': [346],\n             'saint': [599],\n             'salt': [1, 159, 225, 268, 568, 574, 582, 656],\n             'salty': [113, 156, 162, 264, 322, 485],\n             'sandwich': [138, 197, 624],\n             'school': [161, 590, 709],\n             'score': [18, 194, 196, 379, 500, 513, 604, 628, 660],\n             'scoreboard': [154, 168, 458, 489, 701],\n             'screen': [125, 139, 210, 470, 474, 694],\n             'screencap': [342],\n             'script': [550],\n             'sea': [195],\n             'season': [159],\n             'seawater': [656],\n             'selection': [205, 290],\n             'send': [342],\n             'sense': [412, 528, 564],\n             'sentence': [72, 420, 664],\n             'server': [326],\n             'sex': [648],\n             'shame': [681],\n             'shampoo': [63],\n             'shark': [481],\n             'shit': [28,\n              49,\n              97,\n              110,\n              126,\n              144,\n              146,\n              174,\n              261,\n              360,\n              433,\n              455,\n              505,\n              539,\n              621],\n             'shittalk': [217],\n             'shitty': [367],\n             'shoe': [321],\n             'shoot': [141, 190],\n             'shot': [491, 620, 694],\n             'shoutout': [118],\n             'side': [295],\n             'similarity': [706],\n             'singleplayer': [394],\n             'sister': [280, 675],\n             'size': [321],\n             'skill': [226, 258, 339, 603, 695],\n             'smarter': [163],\n             'smoking': [520],\n             'sniper': [247, 557],\n             'snowshovel': [362],\n             'sole': [150],\n             'somehow': [307, 621],\n             'someone': [104, 287, 395, 468, 573, 598, 632, 647],\n             'something': [39,\n              80,\n              108,\n              175,\n              177,\n              179,\n              191,\n              194,\n              298,\n              356,\n              364,\n              377,\n              484,\n              583,\n              605,\n              685,\n              696,\n              710,\n              714],\n             'son': [651],\n             'sound': [458],\n             'soup': [78, 163],\n             'speed': [80],\n             'sperm': [343, 348, 396],\n             'spray': [169],\n             'spy': [598],\n             'stairs': [70],\n             'statement': [163],\n             'steam': [227],\n             'sticker': [665],\n             'stormtrooper': [45, 188, 230, 383],\n             'strategy': [9],\n             'stuck': [99],\n             'stupidity': [56],\n             'suck': [706],\n             'suicide': [11, 703],\n             'support': [107, 227, 398, 450, 529, 555, 569, 629],\n             'sure': [191, 342],\n             'swatting': [136],\n             'system': [288, 625],\n             't': [3,\n              7,\n              30,\n              35,\n              58,\n              87,\n              96,\n              100,\n              105,\n              130,\n              190,\n              204,\n              262,\n              269,\n              307,\n              318,\n              335,\n              369,\n              377,\n              393,\n              422,\n              442,\n              456,\n              458,\n              468,\n              494,\n              511,\n              582,\n              601,\n              623,\n              633,\n              662,\n              669,\n              685,\n              696],\n             'take': [170, 499],\n             'talk': [67, 404],\n             'tapestry': [117],\n             'team': [55,\n              109,\n              119,\n              157,\n              199,\n              245,\n              305,\n              347,\n              372,\n              387,\n              390,\n              403,\n              415,\n              499,\n              507,\n              539,\n              544,\n              559,\n              571,\n              598,\n              606,\n              611,\n              616,\n              622,\n              629,\n              643,\n              676],\n             'teller': [652],\n             'term': [577],\n             'terrorist': [346],\n             'testament': [523],\n             'thing': [85,\n              111,\n              164,\n              183,\n              192,\n              198,\n              207,\n              236,\n              328,\n              402,\n              429,\n              480,\n              512,\n              572,\n              592,\n              635],\n             'threat': [302],\n             'till': [151],\n             'time': [4,\n              46,\n              52,\n              64,\n              65,\n              74,\n              105,\n              128,\n              204,\n              206,\n              238,\n              279,\n              283,\n              374,\n              430,\n              445,\n              491,\n              525,\n              538,\n              585,\n              585,\n              596,\n              617,\n              620,\n              649,\n              652],\n             'timer': [13],\n             'today': [367, 652],\n             'toilet': [17],\n             'tool': [212, 600],\n             'track': [560, 662],\n             'trackball': [148],\n             'trade': [571],\n             'trading': [73],\n             'traffic': [432],\n             'traget': [707],\n             'transportation': [271],\n             'trap': [102],\n             'trash': [7, 109, 137, 262],\n             'travel': [458],\n             'tree': [220, 401],\n             'trigger': [52],\n             'trip': [62, 96],\n             'truck': [137],\n             'turn': [127, 335],\n             'tutorial': [33, 48, 202, 233, 448, 619],\n             'type': [341, 459, 567, 590],\n             'typing': [585],\n             'ugliness': [711],\n             'underneath': [455],\n             'universe': [634],\n             'use': [21, 144, 537],\n             'value': [463, 579, 593],\n             'variety': [580],\n             'viagra': [192],\n             'video': [54, 324, 479],\n             'view': [562],\n             'vocabulary': [72, 420, 664],\n             'wait': [58, 151, 187],\n             'wall': [79, 711],\n             'war': [413],\n             'warmth': [612, 672],\n             'wasn': [58],\n             'water': [1, 113, 150, 331, 447, 472, 575, 584, 594, 610],\n             'way': [62,\n              96,\n              124,\n              149,\n              193,\n              211,\n              232,\n              237,\n              294,\n              391,\n              458,\n              484,\n              503,\n              576,\n              600,\n              677],\n             'weightlifting': [403],\n             'wheel': [208],\n             'win': [76],\n             'woman': [169],\n             'world': [201, 264, 294, 308, 346, 391, 683],\n             'worry': [307],\n             'year': [211, 237, 527],\n             'yesterday': [411],\n             'yours': [414],\n             'zero': [381],\n             'zipper': [655],\n             'zoo': [545]})"
      ]
     },
     "execution_count": 34,
     "metadata": {},
     "output_type": "execute_result"
    }
   ],
   "source": [
    "resultDict"
   ]
  },
  {
   "cell_type": "code",
   "execution_count": 27,
   "metadata": {},
   "outputs": [],
   "source": [
    ""
   ]
  },
  {
   "cell_type": "code",
   "execution_count": null,
   "metadata": {},
   "outputs": [],
   "source": [
    ""
   ]
  }
 ],
 "metadata": {
  "kernelspec": {
   "display_name": "Python 2",
   "language": "python",
   "name": "python2"
  },
  "language_info": {
   "codemirror_mode": {
    "name": "ipython",
    "version": 2.0
   },
   "file_extension": ".py",
   "mimetype": "text/x-python",
   "name": "python",
   "nbconvert_exporter": "python",
   "pygments_lexer": "ipython2",
   "version": "2.7.6"
  }
 },
 "nbformat": 4,
 "nbformat_minor": 0
}