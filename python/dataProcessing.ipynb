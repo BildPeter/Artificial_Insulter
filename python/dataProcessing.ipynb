{
 "cells": [
  {
   "cell_type": "heading",
   "metadata": {
    "collapsed": true
   },
   "level": 1,
   "source": [
    "Clean up numbers"
   ]
  },
  {
   "cell_type": "code",
   "execution_count": 16,
   "metadata": {},
   "outputs": [],
   "source": [
    "outFile = open('../data/shittalkCleaned.txt', 'w')\n",
    "inFile = open('../data/shittalk.txt')\n",
    "for line in inFile:\n",
    "    outFile.write( line.split(\"|\")[1] )"
   ]
  },
  {
   "cell_type": "heading",
   "metadata": {},
   "level": 1,
   "source": [
    "Convert into CSV"
   ]
  },
  {
   "cell_type": "code",
   "execution_count": 38,
   "metadata": {},
   "outputs": [],
   "source": [
    "import pandas as pd"
   ]
  },
  {
   "cell_type": "code",
   "execution_count": 16,
   "metadata": {},
   "outputs": [
    {
     "name": "stderr",
     "output_type": "stream",
     "text": [
      "Skipping line 49: expected 1 fields, saw 2\nSkipping line 296: expected 1 fields, saw 2\nSkipping line 556: expected 1 fields, saw 2\n\n"
     ]
    }
   ],
   "source": [
    "#error_bad_lines=False => somehow some lines can't be read\n",
    "dataOnlyText = pd.read_table('../data/shittalkCleaned.txt', error_bad_lines=False)\n",
    "dataOnlyText['Rating'] = 'none'\n",
    "dataOnlyText['keywords'] = ''\n",
    "dataOnlyText['count'] = 0\n",
    "dataOnlyText.to_csv('../data/ShitTalkTable.csv')"
   ]
  },
  {
   "cell_type": "heading",
   "metadata": {},
   "level": 1,
   "source": [
    "Keyword extraction"
   ]
  },
  {
   "cell_type": "code",
   "execution_count": 39,
   "metadata": {},
   "outputs": [],
   "source": [
    "import nltk\n",
    "from nltk.tokenize import RegexpTokenizer   #For getting rid of punctuation\n",
    "tokenizer = RegexpTokenizer(r'\\w+') #Special tokenizer\n",
    "dataTable = pd.read_csv('../data/ShitTalkTable.csv')"
   ]
  },
  {
   "cell_type": "code",
   "execution_count": 40,
   "metadata": {},
   "outputs": [],
   "source": [
    "rowNr = 2\n",
    "textTest = dataTable['Text'][ rowNr ]\n",
    "\n",
    "tokens = tokenizer.tokenize( textTest )\n",
    "#tokens = nltk.word_tokenize( textTest )\n",
    "taggedPairs = nltk.pos_tag( tokens )\n",
    "keywordsTMP = [word for word,pos in taggedPairs if pos == 'NN']"
   ]
  },
  {
   "cell_type": "code",
   "execution_count": 41,
   "metadata": {},
   "outputs": [],
   "source": [
    "from collections import defaultdict\n",
    "dict = defaultdict(list)\n",
    "for key in keywordsTMP:\n",
    "    dict[ key ].append(rowNr)\n",
    "    \n",
    "for key in keywordsTMP:\n",
    "    dict[ key ].append( 4 )"
   ]
  },
  {
   "cell_type": "heading",
   "metadata": {},
   "level": 2,
   "source": [
    "Function to get all keywords"
   ]
  },
  {
   "cell_type": "code",
   "execution_count": 1,
   "metadata": {
    "collapsed": true
   },
   "outputs": [],
   "source": [
    "import randomInsulter as ai\n",
    "import pandas as pd\n",
    "dataTable = pd.read_csv('../data/ShitTalkTable.csv')\n",
    "resultDict = ai.putKeywordsToDict( dataTable )"
   ]
  },
  {
   "cell_type": "heading",
   "metadata": {
    "collapsed": true
   },
   "level": 1,
   "source": [
    "Get a sentence from incoming sentence"
   ]
  },
  {
   "cell_type": "code",
   "execution_count": 2,
   "metadata": {},
   "outputs": [
    {
     "data": {
      "text/plain": [
       "\"Are you constipated? 'cause you ain't doin' shit.\""
      ]
     },
     "execution_count": 2,
     "metadata": {},
     "output_type": "execute_result"
    }
   ],
   "source": [
    "text = \"This shit was yesterday\"\n",
    "ai.answerFromText( text, resultDict, dataTable )"
   ]
  },
  {
   "cell_type": "code",
   "execution_count": 9,
   "metadata": {},
   "outputs": [
    {
     "data": {
      "text/plain": [
       "'I see his hobbies include lag, friendly fire and caps lock. Good for he.'"
      ]
     },
     "execution_count": 9,
     "metadata": {},
     "output_type": "execute_result"
    }
   ],
   "source": [
    "ai.changeToMale( ai.answerFromText( \"Go\", resultDict, dataTable ) )"
   ]
  },
  {
   "cell_type": "code",
   "execution_count": 3,
   "metadata": {},
   "outputs": [
    {
     "data": {
      "text/plain": [
       "'He is a face of hiss'"
      ]
     },
     "execution_count": 3,
     "metadata": {},
     "output_type": "execute_result"
    }
   ],
   "source": [
    "ai.changeToMale( maleText )"
   ]
  },
  {
   "cell_type": "code",
   "execution_count": null,
   "metadata": {},
   "outputs": [],
   "source": [
    ""
   ]
  }
 ],
 "metadata": {
  "kernelspec": {
   "display_name": "Python 2",
   "language": "python",
   "name": "python2"
  },
  "language_info": {
   "codemirror_mode": {
    "name": "ipython",
    "version": 2.0
   },
   "file_extension": ".py",
   "mimetype": "text/x-python",
   "name": "python",
   "nbconvert_exporter": "python",
   "pygments_lexer": "ipython2",
   "version": "2.7.6"
  }
 },
 "nbformat": 4,
 "nbformat_minor": 0
}